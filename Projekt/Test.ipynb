{
 "cells": [
  {
   "cell_type": "markdown",
   "id": "7f9192c631596093",
   "metadata": {},
   "source": [
    "# Datenvorbereitung ohne Spark"
   ]
  },
  {
   "cell_type": "code",
   "execution_count": 1,
   "id": "3f38a4bb4734f1fe",
   "metadata": {
    "ExecuteTime": {
     "end_time": "2024-06-26T17:23:01.091281Z",
     "start_time": "2024-06-26T17:23:00.476737Z"
    }
   },
   "outputs": [
    {
     "data": {
      "text/plain": [
       "'[{\"2000\": 464.972528567772, \"2001\": 470.133013625862, \"2002\": 409.771876603363, \"2003\": 355.593461528384, \"2004\": 311.225493974292, \"2005\": 272.136953998124, \"2006\": 227.528584604822, \"2007\": 194.499155724662, \"2008\": 184.55170027124, \"2009\": 154.911973034974, \"2010\": 137.215676347278, \"2011\": 128.747034707141, \"2012\": 131.002449224655, \"2013\": 127.390600538148, \"2014\": 117.411407668618, \"2015\": 108.623840644296, \"2016\": 90.3129052678576, \"2017\": 85.0779201091475, \"2018\": 76.0917499116289, \"2019\": 71.2990178322923, \"2020\": 66.4987898133564, \"2021\": 60.6416771923102, \"2022\": 56.728338323236}]'"
      ]
     },
     "execution_count": 1,
     "metadata": {},
     "output_type": "execute_result"
    }
   ],
   "source": [
    "import pandas as pd\n",
    "import json\n",
    "\n",
    "# Load the data\n",
    "file_path = 'emissions/schadstoffemissionen_1990-2022_nach_nfr_wide_1a3b1.csv'\n",
    "df = pd.read_csv(file_path)\n",
    "\n",
    "# Filter the row which contains \"CO\" in the second column and \"1 A 3 b 1\" in the fourth column\n",
    "filtered_row = df[(df.iloc[:, 1] == 'CO') & (df.iloc[:, 3] == '1 A 3 b 1')]\n",
    "\n",
    "# Extract the CO2 data between 2000 and 2022\n",
    "co2_data_row = filtered_row.iloc[0, 7:40].values  # Adjusting the column indices to match the correct range\n",
    "\n",
    "# Create a dictionary for the emission data\n",
    "years = list(range(2000, 2023))\n",
    "emission_data = {str(year): co2_data_row[i] for i, year in enumerate(years)}\n",
    "\n",
    "# Save the data as JSON in a data field\n",
    "emission_data_json = json.dumps([emission_data])\n",
    "\n",
    "# Output the result\n",
    "emission_data_json"
   ]
  },
  {
   "cell_type": "code",
   "execution_count": null,
   "id": "290ead9acc5fa95c",
   "metadata": {
    "collapsed": false,
    "jupyter": {
     "outputs_hidden": false
    }
   },
   "outputs": [],
   "source": []
  }
 ],
 "metadata": {
  "kernelspec": {
   "display_name": "Python 3 (ipykernel)",
   "language": "python",
   "name": "python3"
  },
  "language_info": {
   "codemirror_mode": {
    "name": "ipython",
    "version": 3
   },
   "file_extension": ".py",
   "mimetype": "text/x-python",
   "name": "python",
   "nbconvert_exporter": "python",
   "pygments_lexer": "ipython3",
   "version": "3.11.7"
  }
 },
 "nbformat": 4,
 "nbformat_minor": 5
}
