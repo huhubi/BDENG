{
 "cells": [
  {
   "cell_type": "code",
   "execution_count": 1,
   "id": "bd9153d2-085a-4384-99a3-1a4e7a1e7a8d",
   "metadata": {},
   "outputs": [
    {
     "name": "stderr",
     "output_type": "stream",
     "text": [
      "24/06/26 20:37:48 WARN Utils: Your hostname, MacBook-Pro-von-Gregoire.local resolves to a loopback address: 127.0.0.1; using 192.168.0.248 instead (on interface en0)\n",
      "24/06/26 20:37:48 WARN Utils: Set SPARK_LOCAL_IP if you need to bind to another address\n",
      "Setting default log level to \"WARN\".\n",
      "To adjust logging level use sc.setLogLevel(newLevel). For SparkR, use setLogLevel(newLevel).\n",
      "24/06/26 20:37:48 WARN NativeCodeLoader: Unable to load native-hadoop library for your platform... using builtin-java classes where applicable\n",
      "24/06/26 20:37:48 WARN Utils: Service 'SparkUI' could not bind on port 4040. Attempting port 4041.\n"
     ]
    }
   ],
   "source": [
    "from pyspark.sql import SparkSession\n",
    "import pandas as pd\n",
    "import matplotlib.pyplot as plt\n",
    "\n",
    "spark = SparkSession.builder \\\n",
    "    .appName(\"Emission Data Visualization\") \\\n",
    "    .getOrCreate()"
   ]
  },
  {
   "cell_type": "code",
   "execution_count": 3,
   "id": "0e1900a9-0ff6-49e0-94e1-b90d5662c7cb",
   "metadata": {},
   "outputs": [],
   "source": [
    "emission_data = [{\"2000\": 7.3015565276, \"2001\": 7.3445498509, \"2002\": 7.5910820191, \"2003\": 7.6661065819,\n",
    "                  \"2004\": 7.9264551349, \"2005\": 8.022971702, \"2006\": 8.247301388, \"2007\": 8.3558799857,\n",
    "                  \"2008\": 8.4741724795, \"2009\": 8.4774061324, \"2010\": 8.3759737748, \"2011\": 8.4235682823,\n",
    "                  \"2012\": 8.7662938718, \"2013\": 9.291035915, \"2014\": 9.8128903391, \"2015\": 10.1173860799,\n",
    "                  \"2016\": 10.4965465177, \"2017\": 10.8414736715, \"2018\": 10.6853845334, \"2019\": 10.6693128165,\n",
    "                  \"2020\": 10.9580914025, \"2021\": 11.1264878349, \"2022\": 11.0597619728}]"
   ]
  },
  {
   "cell_type": "code",
   "execution_count": null,
   "id": "19c7b957-a09c-4ffd-a74b-e9cf622e22de",
   "metadata": {},
   "outputs": [],
   "source": []
  }
 ],
 "metadata": {
  "kernelspec": {
   "display_name": "Python 3 (ipykernel)",
   "language": "python",
   "name": "python3"
  },
  "language_info": {
   "codemirror_mode": {
    "name": "ipython",
    "version": 3
   },
   "file_extension": ".py",
   "mimetype": "text/x-python",
   "name": "python",
   "nbconvert_exporter": "python",
   "pygments_lexer": "ipython3",
   "version": "3.11.7"
  }
 },
 "nbformat": 4,
 "nbformat_minor": 5
}
