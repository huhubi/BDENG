{
 "cells": [
  {
   "cell_type": "markdown",
   "id": "10b127d2-309d-4214-85ff-226e9852b49a",
   "metadata": {
    "tags": []
   },
   "source": [
    "# BDENG project SS2024"
   ]
  },
  {
   "cell_type": "markdown",
   "id": "02a1226f-adc0-4053-ab0c-dda0adedbb8c",
   "metadata": {
    "tags": []
   },
   "source": [
    "## Topic\n",
    "\n",
    "The main goal is to check if there is correlation between CO2 emissions and between the sum of new registered/used cars in Austria (since 2000).\n",
    "\n",
    "For BDENG project we want to get car data from various sources and check if they correspond with the available data between various source. We got one new and used car registration set and we want to check if the count corresponds with the publicly available statistics from https://www.statistik.at/statistiken/tourismus-und-verkehr/fahrzeuge/kfz-bestand which got webscrape.\n",
    "Since we didnt found an good fitting API, we wrote our own."
   ]
  },
  {
   "cell_type": "markdown",
   "id": "4646f297-fd7e-4d35-ad05-7a25ee5a02de",
   "metadata": {
    "tags": []
   },
   "source": [
    "Members: Grégoire Bartek, Matthias Huber, David Berger\n"
   ]
  },
  {
   "metadata": {},
   "cell_type": "markdown",
   "source": [
    "# Data Sources\n",
    "\n",
    "## Webscraping\n",
    "\n",
    "Car count of registrations (Webscraping)\n",
    "\n",
    "https://www.statistik.at/statistiken/tourismus-und-verkehr/fahrzeuge/kfz-bestand\n",
    "\n",
    "## CSV\n",
    "\n",
    "emission data: https://www.data.gv.at/katalog/dataset/bd462a04-2453-4c76-95bb-cfbd043540f5#resources . For the emission data it was important to use emission data only from passenger vehicles, since we get the registration data from normal \"PKWs\". The NFR emission category for passenger vehicles is 1A3b1.\n",
    "\n",
    "\n",
    "\n",
    "AT new registered cars: https://www.data.gv.at/katalog/de/dataset/stat_pkw-neuzulassungen-nach-marken-ab-janner-2000#resources\n",
    "\n",
    "AT used registered cars: https://www.data.gv.at/katalog/dataset/6fc1c927-bf21-3d72-9333-a9055493ab3c#additional-info\n",
    "\n",
    "## API\n",
    "\n",
    "API : TODO Gregoire"
   ],
   "id": "7d73abe922cc56d6"
  },
  {
   "metadata": {},
   "cell_type": "markdown",
   "source": [
    "# Infrastructure\n",
    "\n",
    "TODO"
   ],
   "id": "fb3467f5bb7c66d1"
  },
  {
   "cell_type": "markdown",
   "id": "00e186a0-3e20-434a-ab2e-a531b1ed626e",
   "metadata": {
    "tags": []
   },
   "source": [
    " ## Setup: \n",
    " \n",
    "Run the notebook locally\n",
    "\n",
    "#### Github Repo:\n",
    "https://github.com/huhubi/BDENG"
   ]
  },
  {
   "cell_type": "markdown",
   "id": "ab8e6b0ef78d8dc2",
   "metadata": {
    "collapsed": false
   },
   "source": [
    "### Versions used\n",
    "\n",
    "- JupyterLab\n",
    "- Python 3 as kernel\n",
    "- python-Kafka\n",
    "- Spark\n"
   ]
  },
  {
   "cell_type": "markdown",
   "source": [
    "## Expected Output :\n",
    "\n",
    "We want to see if there is a difference between the data count from the csv files and the data from the webpage"
   ],
   "metadata": {
    "collapsed": false
   },
   "id": "8f380bb4-7e26-447d-a401-073750f71201"
  },
  {
   "cell_type": "markdown",
   "source": [
    "# Documentation of procedure"
   ],
   "metadata": {
    "collapsed": false
   },
   "id": "3ccee38f-fd02-45ad-807d-bb52befdb635"
  },
  {
   "cell_type": "markdown",
   "source": [
    "# INSERT NOTEBOOK"
   ],
   "metadata": {
    "collapsed": false
   },
   "id": "80899b430d3e8206"
  },
  {
   "cell_type": "code",
   "outputs": [],
   "source": [
    "# TODO"
   ],
   "metadata": {
    "collapsed": false
   },
   "id": "ed13aa4d6cc88410"
  },
  {
   "cell_type": "markdown",
   "source": [
    "# Conclusion"
   ],
   "metadata": {
    "collapsed": false
   },
   "id": "2273ae67fd10ebc8"
  }
 ],
 "metadata": {
  "kernelspec": {
   "display_name": "Python 3 (ipykernel)",
   "language": "python",
   "name": "python3"
  },
  "language_info": {
   "codemirror_mode": {
    "name": "ipython",
    "version": 3
   },
   "file_extension": ".py",
   "mimetype": "text/x-python",
   "name": "python",
   "nbconvert_exporter": "python",
   "pygments_lexer": "ipython3",
   "version": "3.11.7"
  }
 },
 "nbformat": 4,
 "nbformat_minor": 5
}
