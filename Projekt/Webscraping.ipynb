{
 "cells": [
  {
   "metadata": {},
   "cell_type": "markdown",
   "source": [
    "# Webscrapping Car data from Statistik Austria\n",
    "\n",
    "Link: https://www.statistik.at/statistiken/tourismus-und-verkehr/fahrzeuge/kfz-bestand - saved on 24.06.2024 "
   ],
   "id": "5fd33e01153c88ed"
  },
  {
   "metadata": {},
   "cell_type": "markdown",
   "source": [
    "# Local Version"
   ],
   "id": "38ac85be1037b87b"
  },
  {
   "metadata": {
    "ExecuteTime": {
     "end_time": "2024-06-24T13:57:02.250518Z",
     "start_time": "2024-06-24T13:57:02.141638Z"
    }
   },
   "cell_type": "code",
   "source": [
    "from bs4 import BeautifulSoup\n",
    "import json\n",
    "\n",
    "# Load the local HTML file\n",
    "file_path = 'Kfz-Bestand - STATISTIK AUSTRIA - Die Informationsmanager.htm'\n",
    "with open(file_path, 'r', encoding='utf-8') as file:\n",
    "    content = file.read()\n",
    "\n",
    "# Parse the HTML content\n",
    "soup = BeautifulSoup(content, 'html.parser')\n",
    "\n",
    "# Initialize a dictionary to store the data\n",
    "data = {}\n",
    "\n",
    "# Find all rows in the table\n",
    "rows = soup.find_all(\"tr\", class_=[\"datatable__tr odd\", \"datatable__tr even\"])\n",
    "\n",
    "print(f\"Found {len(rows)} rows\")\n",
    "\n",
    "for row in rows:\n",
    "    # Extract the year\n",
    "    year_td = row.find(\"td\", class_=\"datatable__td dtr-control\")\n",
    "    if year_td:\n",
    "        year_text = year_td.get_text().strip()\n",
    "        try:\n",
    "            year = int(year_text)\n",
    "            if year in range(2000, 2021):  # Interested in years 2000 to 2020\n",
    "                # Extract the second value for Personenkraftwagen column\n",
    "                values = row.find_all(\"td\", class_=\"datatable__td datatable__td--right\")\n",
    "                if values and len(values) >= 2:\n",
    "                    # Get the raw data for Personenkraftwagen\n",
    "                    raw_value = values[1].get_text().strip().replace('\\xa0', '')\n",
    "                    data[year] = raw_value\n",
    "        except ValueError:\n",
    "            continue  # Skip rows where the year is not a valid integer\n",
    "\n",
    "print(data)\n",
    "\n",
    "# Convert the data dictionary to JSON format\n",
    "json_data = json.dumps(data, indent=4)\n",
    "\n",
    "# Save the JSON data to a file\n",
    "json_file_path = 'personenkraftwagen_2000_2020.json'\n",
    "with open(json_file_path, 'w') as json_file:\n",
    "    json_file.write(json_data)\n",
    "\n",
    "print(f\"Data scraped and saved to {json_file_path}\")\n"
   ],
   "id": "c5fa561949714985",
   "outputs": [
    {
     "name": "stdout",
     "output_type": "stream",
     "text": [
      "Found 60 rows\n",
      "{2000: '4097145', 2005: '4156743', 2006: '4204969', 2007: '4245583', 2008: '4284919', 2009: '4359944', 2010: '4441027', 2011: '4513421', 2012: '4584202', 2013: '4641308', 2014: '4694921', 2015: '4748048', 2016: '4821557', 2017: '4898578', 2018: '4978852', 2019: '5039548', 2020: '5091827'}\n",
      "Data scraped and saved to personenkraftwagen_2000_2020.json\n"
     ]
    }
   ],
   "execution_count": 16
  },
  {
   "metadata": {},
   "cell_type": "markdown",
   "source": [
    "# Online Version"
   ],
   "id": "a2092f8512ff40c4"
  },
  {
   "metadata": {
    "ExecuteTime": {
     "end_time": "2024-06-24T17:04:01.219072Z",
     "start_time": "2024-06-24T17:03:25.649045Z"
    }
   },
   "cell_type": "code",
   "source": [
    "from selenium import webdriver\n",
    "from selenium.webdriver.chrome.service import Service\n",
    "from webdriver_manager.chrome import ChromeDriverManager\n",
    "from selenium.webdriver.chrome.options import Options\n",
    "from bs4 import BeautifulSoup\n",
    "import json\n",
    "import time\n",
    "\n",
    "# URL of the page to scrape\n",
    "url = \"https://www.statistik.at/statistiken/tourismus-und-verkehr/fahrzeuge/kfz-bestand\"\n",
    "\n",
    "# Initialize the WebDriver (make sure you have the ChromeDriver installed and in your PATH)\n",
    "options = Options()\n",
    "options.add_argument('--headless')  # Run in headless mode (no GUI)\n",
    "driver = webdriver.Chrome(service=Service(ChromeDriverManager().install()), options=options)\n",
    "\n",
    "# Fetch the page content\n",
    "driver.get(url)\n",
    "\n",
    "# Wait for the JavaScript to load content (adjust the time as necessary)\n",
    "time.sleep(10)\n",
    "\n",
    "# Get the page source and parse it with BeautifulSoup\n",
    "soup = BeautifulSoup(driver.page_source, 'html.parser')\n",
    "\n",
    "# Close the WebDriver\n",
    "driver.quit()\n",
    "\n",
    "# Initialize a dictionary to store the data\n",
    "data = {}\n",
    "\n",
    "# Find the table with the required heading\n",
    "table_heading = soup.find('span', class_='title-customized-padding', string='Kfz-Bestand 1990 bis 2023 (Tabelle)')\n",
    "if not table_heading:\n",
    "    print(\"Table heading not found.\")\n",
    "    exit()\n",
    "\n",
    "# The table should be the next sibling of the heading\n",
    "table = table_heading.find_next('table', class_='datatable')\n",
    "if not table:\n",
    "    print(\"Table not found.\")\n",
    "    exit()\n",
    "\n",
    "# Find all rows in the table\n",
    "rows = table.find_all(\"tr\", class_=[\"datatable__tr odd\", \"datatable__tr even\"])\n",
    "\n",
    "print(f\"Found {len(rows)} rows\")\n",
    "\n",
    "for row in rows:\n",
    "    # Extract the year\n",
    "    year_td = row.find(\"td\", class_=\"datatable__td dtr-control\")\n",
    "    if year_td:\n",
    "        year_text = year_td.get_text().strip()\n",
    "        print(f\"Found year: {year_text}\")  # Debug print\n",
    "        try:\n",
    "            year = int(year_text)\n",
    "            if year in range(2000, 2021):  # Interested in years 2000 to 2020\n",
    "                # Extract the second value for Personenkraftwagen column\n",
    "                values = row.find_all(\"td\", class_=\"datatable__td datatable__td--right\")\n",
    "                if values and len(values) >= 2:\n",
    "                    # Get the raw data for Personenkraftwagen\n",
    "                    raw_value = values[1].get_text().strip().replace('\\xa0', '')\n",
    "                    print(f\"Year: {year}, Value: {raw_value}\")  # Debug print\n",
    "                    data[year] = raw_value\n",
    "        except ValueError:\n",
    "            continue  # Skip rows where the year is not a valid integer\n",
    "\n",
    "print(data)\n",
    "\n",
    "# Convert the data dictionary to JSON format\n",
    "json_data = json.dumps(data, indent=4)\n",
    "\n",
    "# Save the JSON data to a file\n",
    "json_file_path = 'personenkraftwagen_2000_2020.json'\n",
    "with open(json_file_path, 'w') as json_file:\n",
    "    json_file.write(json_data)\n",
    "\n",
    "print(f\"Data scraped and saved to {json_file_path}\")\n"
   ],
   "id": "ecc478d7437d7c6a",
   "outputs": [
    {
     "name": "stdout",
     "output_type": "stream",
     "text": [
      "Found 22 rows\n",
      "Found year: 1990\n",
      "Found year: 1995\n",
      "Found year: 2000\n",
      "Year: 2000, Value: 4097145\n",
      "Found year: 2005\n",
      "Year: 2005, Value: 4156743\n",
      "Found year: 2006\n",
      "Year: 2006, Value: 4204969\n",
      "Found year: 2007\n",
      "Year: 2007, Value: 4245583\n",
      "Found year: 2008\n",
      "Year: 2008, Value: 4284919\n",
      "Found year: 2009\n",
      "Year: 2009, Value: 4359944\n",
      "Found year: 2010\n",
      "Year: 2010, Value: 4441027\n",
      "Found year: 2011\n",
      "Year: 2011, Value: 4513421\n",
      "Found year: 2012\n",
      "Year: 2012, Value: 4584202\n",
      "Found year: 2013\n",
      "Year: 2013, Value: 4641308\n",
      "Found year: 2014\n",
      "Year: 2014, Value: 4694921\n",
      "Found year: 2015\n",
      "Year: 2015, Value: 4748048\n",
      "Found year: 2016\n",
      "Year: 2016, Value: 4821557\n",
      "Found year: 2017\n",
      "Year: 2017, Value: 4898578\n",
      "Found year: 2018\n",
      "Year: 2018, Value: 4978852\n",
      "Found year: 2019\n",
      "Year: 2019, Value: 5039548\n",
      "Found year: 2020\n",
      "Year: 2020, Value: 5091827\n",
      "Found year: 2021\n",
      "Found year: 2022\n",
      "Found year: 2023\n",
      "{2000: '4097145', 2005: '4156743', 2006: '4204969', 2007: '4245583', 2008: '4284919', 2009: '4359944', 2010: '4441027', 2011: '4513421', 2012: '4584202', 2013: '4641308', 2014: '4694921', 2015: '4748048', 2016: '4821557', 2017: '4898578', 2018: '4978852', 2019: '5039548', 2020: '5091827'}\n",
      "Data scraped and saved to personenkraftwagen_2000_2020.json\n"
     ]
    }
   ],
   "execution_count": 2
  },
  {
   "metadata": {},
   "cell_type": "code",
   "outputs": [],
   "execution_count": null,
   "source": [],
   "id": "a03b36f2e54e6a83"
  }
 ],
 "metadata": {
  "kernelspec": {
   "display_name": "Python 3",
   "language": "python",
   "name": "python3"
  },
  "language_info": {
   "codemirror_mode": {
    "name": "ipython",
    "version": 2
   },
   "file_extension": ".py",
   "mimetype": "text/x-python",
   "name": "python",
   "nbconvert_exporter": "python",
   "pygments_lexer": "ipython2",
   "version": "2.7.6"
  }
 },
 "nbformat": 4,
 "nbformat_minor": 5
}
