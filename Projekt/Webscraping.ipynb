{
 "cells": [
  {
   "metadata": {},
   "cell_type": "markdown",
   "source": [
    "# Webscrapping Car data from Statistik Austria\n",
    "\n",
    "Link: https://www.statistik.at/statistiken/tourismus-und-verkehr/fahrzeuge/kfz-bestand"
   ],
   "id": "5fd33e01153c88ed"
  },
  {
   "metadata": {
    "ExecuteTime": {
     "end_time": "2024-06-24T13:46:21.668527Z",
     "start_time": "2024-06-24T13:46:21.529543Z"
    }
   },
   "cell_type": "code",
   "source": [
    "from bs4 import BeautifulSoup\n",
    "import json\n",
    "\n",
    "# Load the local HTML file\n",
    "file_path = 'Kfz-Bestand - STATISTIK AUSTRIA - Die Informationsmanager.htm'\n",
    "with open(file_path, 'r', encoding='utf-8') as file:\n",
    "    content = file.read()\n",
    "\n",
    "# Parse the HTML content\n",
    "soup = BeautifulSoup(content, 'html.parser')\n",
    "\n",
    "# Initialize a dictionary to store the data\n",
    "data = {}\n",
    "\n",
    "# Find all rows in the table\n",
    "rows = soup.find_all(\"tr\", class_=[\"datatable__tr odd\", \"datatable__tr even\"])\n",
    "\n",
    "print(f\"Found {len(rows)} rows\")\n",
    "\n",
    "for row in rows:\n",
    "    # Extract the year\n",
    "    year_td = row.find(\"td\", class_=\"datatable__td dtr-control\")\n",
    "    if year_td:\n",
    "        year_text = year_td.get_text().strip()\n",
    "        try:\n",
    "            year = int(year_text)\n",
    "            if year in range(2000, 2021):  # Interested in years 2000 to 2020\n",
    "                # Extract the second value for Personenkraftwagen column\n",
    "                values = row.find_all(\"td\", class_=\"datatable__td datatable__td--right\")\n",
    "                if values and len(values) >= 2:\n",
    "                    # Get the raw data for Personenkraftwagen\n",
    "                    raw_value = values[1].get_text().strip().replace('\\xa0', '')\n",
    "                    data[year] = raw_value\n",
    "        except ValueError:\n",
    "            continue  # Skip rows where the year is not a valid integer\n",
    "\n",
    "print(data)\n",
    "\n",
    "# Convert the data dictionary to JSON format\n",
    "json_data = json.dumps(data, indent=4)\n",
    "\n",
    "# Save the JSON data to a file\n",
    "json_file_path = 'personenkraftwagen_2000_2020.json'\n",
    "with open(json_file_path, 'w') as json_file:\n",
    "    json_file.write(json_data)\n",
    "\n",
    "print(f\"Data scraped and saved to {json_file_path}\")\n"
   ],
   "id": "c5fa561949714985",
   "outputs": [
    {
     "name": "stdout",
     "output_type": "stream",
     "text": [
      "Found 60 rows\n",
      "{2000: '4097145', 2005: '4156743', 2006: '4204969', 2007: '4245583', 2008: '4284919', 2009: '4359944', 2010: '4441027', 2011: '4513421', 2012: '4584202', 2013: '4641308', 2014: '4694921', 2015: '4748048', 2016: '4821557', 2017: '4898578', 2018: '4978852', 2019: '5039548', 2020: '5091827'}\n",
      "Data scraped and saved to personenkraftwagen_2000_2020.json\n"
     ]
    }
   ],
   "execution_count": 8
  },
  {
   "metadata": {
    "ExecuteTime": {
     "end_time": "2024-06-24T11:52:02.276495Z",
     "start_time": "2024-06-24T11:52:02.273815Z"
    }
   },
   "cell_type": "code",
   "source": "",
   "id": "ecc478d7437d7c6a",
   "outputs": [],
   "execution_count": 2
  },
  {
   "metadata": {},
   "cell_type": "code",
   "outputs": [],
   "execution_count": null,
   "source": "",
   "id": "a03b36f2e54e6a83"
  }
 ],
 "metadata": {
  "kernelspec": {
   "display_name": "Python 3",
   "language": "python",
   "name": "python3"
  },
  "language_info": {
   "codemirror_mode": {
    "name": "ipython",
    "version": 2
   },
   "file_extension": ".py",
   "mimetype": "text/x-python",
   "name": "python",
   "nbconvert_exporter": "python",
   "pygments_lexer": "ipython2",
   "version": "2.7.6"
  }
 },
 "nbformat": 4,
 "nbformat_minor": 5
}
